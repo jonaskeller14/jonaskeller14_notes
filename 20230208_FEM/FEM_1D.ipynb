{
 "cells": [
  {
   "cell_type": "code",
   "execution_count": 56,
   "outputs": [],
   "source": [
    "import math\n",
    "import numpy as np\n",
    "import matplotlib.pyplot as plt\n",
    "import sympy as sym\n",
    "from scipy.integrate import quad_vec as scipy_integrate_quad_vec\n",
    "\n",
    "from plotting import *"
   ],
   "metadata": {
    "collapsed": false,
    "pycharm": {
     "name": "#%%\n"
    }
   }
  },
  {
   "cell_type": "markdown",
   "metadata": {
    "collapsed": true,
    "pycharm": {
     "name": "#%% md\n"
    }
   },
   "source": [
    "# Finite Element Method (FEM)\n",
    "Weak formulation: $\\underline{\\underline{K}} \\, \\underline{u} = \\underline{f}$"
   ]
  },
  {
   "cell_type": "markdown",
   "source": [
    "## Example (1D)"
   ],
   "metadata": {
    "collapsed": false
   }
  },
  {
   "cell_type": "markdown",
   "source": [
    "### Problem\n",
    "\n",
    "![FEM_1D](FEM_1D.jpg)"
   ],
   "metadata": {
    "collapsed": false
   }
  },
  {
   "cell_type": "markdown",
   "source": [
    "Material properties"
   ],
   "metadata": {
    "collapsed": false
   }
  },
  {
   "cell_type": "code",
   "execution_count": 57,
   "outputs": [],
   "source": [
    "E = 200e9"
   ],
   "metadata": {
    "collapsed": false,
    "pycharm": {
     "name": "#%%\n"
    }
   }
  },
  {
   "cell_type": "markdown",
   "source": [
    "Geometric properties: Length and cross sectional area of beam"
   ],
   "metadata": {
    "collapsed": false
   }
  },
  {
   "cell_type": "code",
   "execution_count": 58,
   "outputs": [
    {
     "data": {
      "text/plain": "<Figure size 432x288 with 1 Axes>",
      "image/png": "[encoded data removed]"
     },
     "metadata": {
      "needs_background": "light"
     },
     "output_type": "display_data"
    }
   ],
   "source": [
    "l = 2\n",
    "\n",
    "# Exponential relation\n",
    "A_0 = 100e-3\n",
    "A_1 = 10e-3\n",
    "A = lambda x: (A_0 - A_1)/(1-1/math.e) * np.exp(-x/l) + (A_1 - A_0*1/math.e)/(1-1/math.e)\n",
    "plot_cross_section_area(A, l)"
   ],
   "metadata": {
    "collapsed": false,
    "pycharm": {
     "name": "#%%\n"
    }
   }
  },
  {
   "cell_type": "markdown",
   "source": [],
   "metadata": {
    "collapsed": false
   }
  },
  {
   "cell_type": "code",
   "execution_count": 59,
   "outputs": [
    {
     "data": {
      "text/plain": "<Figure size 432x288 with 2 Axes>",
      "image/png": "[encoded data removed]"
     },
     "metadata": {
      "needs_background": "light"
     },
     "output_type": "display_data"
    }
   ],
   "source": [
    "n_nodes = 5\n",
    "\n",
    "n_elements = n_nodes - 1\n",
    "\n",
    "node_list = np.linspace(0,l,n_nodes)\n",
    "element_list = [[i, i+1] for i in range(n_nodes - 1)]\n",
    "\n",
    "plot_1D_mesh(node_list, element_list)"
   ],
   "metadata": {
    "collapsed": false,
    "pycharm": {
     "name": "#%%\n"
    }
   }
  },
  {
   "cell_type": "markdown",
   "source": [
    "Neumann boundary conditions"
   ],
   "metadata": {
    "collapsed": false
   }
  },
  {
   "cell_type": "code",
   "execution_count": 60,
   "outputs": [
    {
     "name": "stdout",
     "output_type": "stream",
     "text": [
      "[ nan   0.   0.   0. 100.]\n"
     ]
    }
   ],
   "source": [
    "f = np.empty(np.shape(node_list))\n",
    "f[:] = np.nan\n",
    "f[1:-1] = 0  # important!\n",
    "f[-1] = 100\n",
    "print(f)"
   ],
   "metadata": {
    "collapsed": false,
    "pycharm": {
     "name": "#%%\n"
    }
   }
  },
  {
   "cell_type": "markdown",
   "source": [
    "Diritchlet boundary conditions"
   ],
   "metadata": {
    "collapsed": false
   }
  },
  {
   "cell_type": "code",
   "execution_count": 61,
   "outputs": [
    {
     "name": "stdout",
     "output_type": "stream",
     "text": [
      "[ 0. nan nan nan nan]\n"
     ]
    }
   ],
   "source": [
    "u = np.empty(np.shape(node_list))\n",
    "u[:] = np.nan\n",
    "u[0] = 0\n",
    "print(u)"
   ],
   "metadata": {
    "collapsed": false,
    "pycharm": {
     "name": "#%%\n"
    }
   }
  },
  {
   "cell_type": "markdown",
   "source": [
    "### Solving"
   ],
   "metadata": {
    "collapsed": false
   }
  },
  {
   "cell_type": "markdown",
   "source": [
    "Shape function\n",
    "\n",
    "$\\underline{ u}^{(e)} \\approx a_0 + a_1 \\cdot x$\n",
    "<br/>\n",
    "$\\underline{ u}^{(e)} \\approx \\underline{ \\underline{ N}}^{(e)} \\underline{ u}^{(e)}= \\underline{ \\underline{ N_1}}^{(e)} \\underline{ u_1}^{(e)} + \\underline{ \\underline{ N_2}}^{(e)} \\underline{ u_2}^{(e)}$"
   ],
   "metadata": {
    "collapsed": false
   }
  },
  {
   "cell_type": "code",
   "execution_count": 62,
   "outputs": [
    {
     "name": "stdout",
     "output_type": "stream",
     "text": [
      "a_0 = (-u_1_e*x_2_e + u_2_e*x_1_e)/(x_1_e - x_2_e)\n",
      "a_1 = (u_1_e - u_2_e)/(x_1_e - x_2_e)\n",
      "u_e = x*(u_1_e - u_2_e)/(x_1_e - x_2_e) + (-u_1_e*x_2_e + u_2_e*x_1_e)/(x_1_e - x_2_e)\n",
      "N_1_e = (x - x_2_e)/(x_1_e - x_2_e)\n",
      "N_2_e = (-x + x_1_e)/(x_1_e - x_2_e)\n"
     ]
    }
   ],
   "source": [
    "# General element independent form\n",
    "x = sym.Symbol(\"x\")\n",
    "a_0 = sym.Symbol(\"a_0\")\n",
    "a_1 = sym.Symbol(\"a_1\")\n",
    "\n",
    "u_e = a_0  + a_1 * x\n",
    "\n",
    "x_1_e = sym.Symbol(\"x_1_e\")\n",
    "x_2_e = sym.Symbol(\"x_2_e\")\n",
    "u_1_e = sym.Symbol(\"u_1_e\")\n",
    "u_2_e = sym.Symbol(\"u_2_e\")\n",
    "\n",
    "sol = sym.solve([u_e.subs(\"x\", x_1_e) - u_1_e, u_e.subs(\"x\", x_2_e) - u_2_e], [a_0, a_1], dict=True)[0]\n",
    "a_0 = sol[a_0]\n",
    "a_1 = sol[a_1]\n",
    "print(f\"a_0 = {a_0}\")\n",
    "print(f\"a_1 = {a_1}\")\n",
    "\n",
    "u_e = u_e.subs(\"a_0\", a_0).subs(\"a_1\", a_1)\n",
    "print(f\"u_e = {u_e}\")\n",
    "\n",
    "N_1_e = sym.Poly(u_e, u_1_e).coeffs()[0]\n",
    "N_2_e = sym.Poly(u_e, u_2_e).coeffs()[0]\n",
    "print(f\"N_1_e = {N_1_e}\")\n",
    "print(f\"N_2_e = {N_2_e}\")"
   ],
   "metadata": {
    "collapsed": false,
    "pycharm": {
     "name": "#%%\n"
    }
   }
  },
  {
   "cell_type": "code",
   "execution_count": 63,
   "outputs": [
    {
     "name": "stdout",
     "output_type": "stream",
     "text": [
      "N_e(x) = (1.0 - 2.0*x, 2.0*x)\n",
      "N_e(x) = (1.0 - 2.0*x, 2.0*x)\n",
      "N_e(x) = (1.0 - 2.0*x, 2.0*x)\n",
      "N_e(x) = (1.0 - 2.0*x, 2.0*x)\n"
     ]
    }
   ],
   "source": [
    "N_e_list = []\n",
    "for element in element_list:\n",
    "    l_e = abs(node_list[element[0]] - node_list[element[1]])\n",
    "    N_1_e_subs = N_1_e.subs(x_1_e, 0).subs(x_2_e, l_e)\n",
    "    N_2_e_subs = N_2_e.subs(x_1_e, 0).subs(x_2_e, l_e)\n",
    "\n",
    "    print(f\"N_e(x) = {N_1_e_subs, N_2_e_subs}\")\n",
    "    N_e = [N_1_e_subs, N_2_e_subs]\n",
    "    N_e_list.append(N_e)"
   ],
   "metadata": {
    "collapsed": false,
    "pycharm": {
     "name": "#%%\n"
    }
   }
  },
  {
   "cell_type": "markdown",
   "source": [
    "$\\underline{ \\underline{ B}}^{(e)} = \\frac{\\partial \\underline{ \\underline{ N}}^{(e)}}{\\partial x}$"
   ],
   "metadata": {
    "collapsed": false
   }
  },
  {
   "cell_type": "code",
   "execution_count": 64,
   "outputs": [],
   "source": [
    "B_e_list = []\n",
    "for N_e in N_e_list:\n",
    "    B_e_1 = sym.lambdify(\"x\", sym.diff(N_e[0]))\n",
    "    B_e_2 = sym.lambdify(\"x\", sym.diff(N_e[1]))\n",
    "    B_e = lambda x: np.array([[B_e_1(x), B_e_2(x)]])\n",
    "\n",
    "    B_e_list.append(B_e)"
   ],
   "metadata": {
    "collapsed": false,
    "pycharm": {
     "name": "#%%\n"
    }
   }
  },
  {
   "cell_type": "markdown",
   "source": [
    "Local Stiffness Matrix\n",
    "\n",
    "$\\underline{ \\underline{K}}^{(e)} = \\int_{V^{(e)}} \\underline{\\underline{B}}^{{(e)}^\\intercal} \\underline{\\underline{C}} \\, \\underline{\\underline{B}}^{(e)} dV$"
   ],
   "metadata": {
    "collapsed": false
   }
  },
  {
   "cell_type": "code",
   "execution_count": 65,
   "outputs": [
    {
     "name": "stdout",
     "output_type": "stream",
     "text": [
      "K_e = \n",
      "[[ 3.34390478e+10 -3.34390478e+10]\n",
      " [-3.34390478e+10  3.34390478e+10]]\n",
      "K_e = \n",
      "[[ 2.2292773e+10 -2.2292773e+10]\n",
      " [-2.2292773e+10  2.2292773e+10]]\n",
      "K_e = \n",
      "[[ 1.36120454e+10 -1.36120454e+10]\n",
      " [-1.36120454e+10  1.36120454e+10]]\n",
      "K_e = \n",
      "[[ 6.85148799e+09 -6.85148799e+09]\n",
      " [-6.85148799e+09  6.85148799e+09]]\n"
     ]
    }
   ],
   "source": [
    "C = np.array([[E]])\n",
    "\n",
    "K_e_list = []\n",
    "for element, B_e in zip(element_list, B_e_list):\n",
    "    l_e = abs(node_list[element[0]] - node_list[element[1]])\n",
    "    K_e = np.vectorize(scipy_integrate_quad_vec)(lambda x: A(x + node_list[element[0]]) * B_e(x).T @ C @ B_e(x), 0, l_e)[0]\n",
    "\n",
    "    print(f\"K_e = \\n{K_e}\")\n",
    "    K_e_list.append(K_e)"
   ],
   "metadata": {
    "collapsed": false,
    "pycharm": {
     "name": "#%%\n"
    }
   }
  },
  {
   "cell_type": "markdown",
   "source": [
    "Transformation Matrix\n",
    "\n",
    "$\\underline{u}^{(e)} = \\underline{\\underline{L}}^{(e)} \\underline{u}$\n",
    "<br>\n",
    "$\\underline{u} = \\underline{\\underline{L}}^{{(e)}^{-1}} \\underline{u}^{(e)} = \\underline{\\underline{L}}^{{(e)}^{\\intercal}} \\underline{u}^{(e)}$"
   ],
   "metadata": {
    "collapsed": false
   }
  },
  {
   "cell_type": "code",
   "execution_count": 66,
   "outputs": [
    {
     "name": "stdout",
     "output_type": "stream",
     "text": [
      "[[1 0 0 0 0]\n",
      " [0 1 0 0 0]]\n",
      "[[0 1 0 0 0]\n",
      " [0 0 1 0 0]]\n",
      "[[0 0 1 0 0]\n",
      " [0 0 0 1 0]]\n",
      "[[0 0 0 1 0]\n",
      " [0 0 0 0 1]]\n"
     ]
    }
   ],
   "source": [
    "L_e_list = []  # each item corresponds to one element\n",
    "for element in element_list:\n",
    "    n_nodes_element = len(element)\n",
    "    L_e = np.zeros((n_nodes_element, n_nodes), dtype=int)\n",
    "    for idx, node in enumerate(element):\n",
    "        L_e[idx, node] = 1\n",
    "\n",
    "    print(L_e)\n",
    "    L_e_list.append(L_e)"
   ],
   "metadata": {
    "collapsed": false,
    "pycharm": {
     "name": "#%%\n"
    }
   }
  },
  {
   "cell_type": "markdown",
   "source": [
    "Global Stiffness Matrix\n",
    "$\\underline{\\underline{K}} = \\sum_e \\underline{\\underline{L}}^{{(e)}^\\intercal} \\underline{\\underline{K}}^{(e)} \\underline{\\underline{L}}^{(e)}$"
   ],
   "metadata": {
    "collapsed": false
   }
  },
  {
   "cell_type": "code",
   "execution_count": 67,
   "outputs": [
    {
     "name": "stdout",
     "output_type": "stream",
     "text": [
      "[[ 3.34390478e+10 -3.34390478e+10  0.00000000e+00  0.00000000e+00\n",
      "   0.00000000e+00]\n",
      " [-3.34390478e+10  5.57318208e+10 -2.22927730e+10  0.00000000e+00\n",
      "   0.00000000e+00]\n",
      " [ 0.00000000e+00 -2.22927730e+10  3.59048184e+10 -1.36120454e+10\n",
      "   0.00000000e+00]\n",
      " [ 0.00000000e+00  0.00000000e+00 -1.36120454e+10  2.04635334e+10\n",
      "  -6.85148799e+09]\n",
      " [ 0.00000000e+00  0.00000000e+00  0.00000000e+00 -6.85148799e+09\n",
      "   6.85148799e+09]]\n"
     ]
    },
    {
     "data": {
      "text/plain": "<Figure size 432x288 with 2 Axes>",
      "image/png": "[encoded data removed]"
     },
     "metadata": {
      "needs_background": "light"
     },
     "output_type": "display_data"
    }
   ],
   "source": [
    "K = np.sum([L_e.T @ K_e @ L_e for L_e, K_e in zip(L_e_list, K_e_list)], axis=0)\n",
    "print(K)\n",
    "\n",
    "plt.imshow(K, cmap='RdBu_r', vmin=-np.max(np.abs(K)), vmax=np.max(np.abs(K)))\n",
    "plt.colorbar()\n",
    "plt.show()"
   ],
   "metadata": {
    "collapsed": false,
    "pycharm": {
     "name": "#%%\n"
    }
   }
  },
  {
   "cell_type": "markdown",
   "source": [
    "Free and Essential Node Displacement --> Partioning"
   ],
   "metadata": {
    "collapsed": false
   }
  },
  {
   "cell_type": "code",
   "execution_count": 68,
   "outputs": [
    {
     "name": "stdout",
     "output_type": "stream",
     "text": [
      "[[1 0 0 0 0]\n",
      " [0 1 0 0 0]\n",
      " [0 0 1 0 0]\n",
      " [0 0 0 1 0]\n",
      " [0 0 0 0 1]]\n",
      "[[1]\n",
      " [0]\n",
      " [0]\n",
      " [0]\n",
      " [0]]\n",
      "[[0 0 0 0]\n",
      " [1 0 0 0]\n",
      " [0 1 0 0]\n",
      " [0 0 1 0]\n",
      " [0 0 0 1]]\n"
     ]
    }
   ],
   "source": [
    "L = np.eye(n_nodes, dtype=int)\n",
    "L_F = L[:,np.isnan(u)]\n",
    "L_E = L[:,~np.isnan(u)]\n",
    "\n",
    "print(L)\n",
    "print(L_E)\n",
    "print(L_F)"
   ],
   "metadata": {
    "collapsed": false,
    "pycharm": {
     "name": "#%%\n"
    }
   }
  },
  {
   "cell_type": "code",
   "execution_count": 69,
   "outputs": [
    {
     "name": "stdout",
     "output_type": "stream",
     "text": [
      "u = \n",
      "[ 0. nan nan nan nan]\n",
      "[0.]\n",
      "[nan nan nan nan]\n",
      "f = \n",
      "[ nan   0.   0.   0. 100.]\n",
      "[nan]\n",
      "[  0.   0.   0. 100.]\n"
     ]
    }
   ],
   "source": [
    "f_E = f[np.isnan(f)]\n",
    "f_F = f[~np.isnan(f)]\n",
    "u_E = u[~np.isnan(u)]\n",
    "u_F = u[np.isnan(u)]\n",
    "\n",
    "print(\"u = \")\n",
    "print(u)\n",
    "print(u_E)\n",
    "print(u_F)\n",
    "\n",
    "print(\"f = \")\n",
    "print(f)\n",
    "print(f_E)\n",
    "print(f_F)"
   ],
   "metadata": {
    "collapsed": false,
    "pycharm": {
     "name": "#%%\n"
    }
   }
  },
  {
   "cell_type": "code",
   "execution_count": 70,
   "outputs": [],
   "source": [
    "K_EE = L_E.T @ K @ L_E\n",
    "K_FE = L_F.T @ K @ L_E\n",
    "K_EF = K_FE.T\n",
    "K_FF = L_F.T @ K @ L_F"
   ],
   "metadata": {
    "collapsed": false,
    "pycharm": {
     "name": "#%%\n"
    }
   }
  },
  {
   "cell_type": "markdown",
   "source": [
    "Solving for deflection and reaction force"
   ],
   "metadata": {
    "collapsed": false
   }
  },
  {
   "cell_type": "code",
   "execution_count": 71,
   "outputs": [
    {
     "name": "stdout",
     "output_type": "stream",
     "text": [
      "[0.00000000e+00 2.99051578e-09 7.47627446e-09 1.48227090e-08\n",
      " 2.94180786e-08]\n",
      "[-100.    0.    0.    0.  100.]\n"
     ]
    }
   ],
   "source": [
    "u_F = np.linalg.inv(K_FF) @ (f_F - K_FE @ u_E)\n",
    "f_E = K_EE @ u_E + K_EF @ u_F\n",
    "\n",
    "u = L_E @ u_E + L_F @ u_F\n",
    "f = L_E @ f_E + L_F @ f_F\n",
    "\n",
    "print(u)\n",
    "print(f)"
   ],
   "metadata": {
    "collapsed": false,
    "pycharm": {
     "name": "#%%\n"
    }
   }
  },
  {
   "cell_type": "markdown",
   "source": [
    "Calculate stress\n",
    "\n",
    "$\\underline{\\sigma}^{(e)} = \\underline{\\underline{C}} \\, \\underline{\\underline{B}}^{(e)} \\underline{\\underline{L}}^{(e)} \\underline{u}$"
   ],
   "metadata": {
    "collapsed": false
   }
  },
  {
   "cell_type": "code",
   "execution_count": 72,
   "outputs": [
    {
     "name": "stdout",
     "output_type": "stream",
     "text": [
      "[1196.20631014 1794.3034735  2938.5737976  5838.14786494]\n"
     ]
    }
   ],
   "source": [
    "sigma = np.zeros(n_elements)\n",
    "for idx, (element, B_e, L_e) in enumerate(zip(element_list, B_e_list, L_e_list)):\n",
    "    x_m_e = np.mean(node_list[element])\n",
    "    sigma[idx] = C @ B_e(x_m_e) @ L_e @ u\n",
    "\n",
    "print(sigma)"
   ],
   "metadata": {
    "collapsed": false,
    "pycharm": {
     "name": "#%%\n"
    }
   }
  },
  {
   "cell_type": "markdown",
   "source": [
    "Plot results"
   ],
   "metadata": {
    "collapsed": false
   }
  },
  {
   "cell_type": "code",
   "execution_count": 73,
   "outputs": [
    {
     "data": {
      "text/plain": "<Figure size 720x720 with 3 Axes>",
      "image/png": "[encoded data removed]"
     },
     "metadata": {
      "needs_background": "light"
     },
     "output_type": "display_data"
    }
   ],
   "source": [
    "plot_1D_results(node_list, element_list, u, f, sigma)"
   ],
   "metadata": {
    "collapsed": false,
    "pycharm": {
     "name": "#%%\n"
    }
   }
  }
 ],
 "metadata": {
  "kernelspec": {
   "display_name": "Python 3",
   "language": "python",
   "name": "python3"
  },
  "language_info": {
   "codemirror_mode": {
    "name": "ipython",
    "version": 2
   },
   "file_extension": ".py",
   "mimetype": "text/x-python",
   "name": "python",
   "nbconvert_exporter": "python",
   "pygments_lexer": "ipython2",
   "version": "2.7.6"
  }
 },
 "nbformat": 4,
 "nbformat_minor": 0
}