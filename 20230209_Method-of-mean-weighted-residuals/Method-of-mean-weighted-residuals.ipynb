{
 "cells": [
  {
   "cell_type": "code",
   "execution_count": 1,
   "outputs": [],
   "source": [
    "import sympy as sym\n",
    "import numpy as np\n",
    "import matplotlib.pyplot as plt\n",
    "from scipy.integrate import quad as scipy_integrate_quad"
   ],
   "metadata": {
    "collapsed": false,
    "pycharm": {
     "name": "#%%\n"
    }
   }
  },
  {
   "cell_type": "markdown",
   "source": [
    "# Method of mean weighted residuals\n",
    "\n",
    "$W = \\int w(x) r(x) dx = 0$"
   ],
   "metadata": {
    "collapsed": false
   }
  },
  {
   "cell_type": "markdown",
   "source": [
    "## Example 1: Polynomial trial function"
   ],
   "metadata": {
    "collapsed": false
   }
  },
  {
   "cell_type": "markdown",
   "source": [
    "Problem\n",
    "\n",
    "Differential equation:  $\\frac{d^2 u}{dx^2} - u + x = 0$\n",
    "Boundary conditions:    $u(0)=0$ and $u(1)=0$"
   ],
   "metadata": {
    "collapsed": false
   }
  },
  {
   "cell_type": "code",
   "execution_count": 2,
   "outputs": [
    {
     "data": {
      "text/plain": "Eq(x - u(x) + Derivative(u(x), (x, 2)), 0)",
      "text/latex": "$\\displaystyle x - u{\\left(x \\right)} + \\frac{d^{2}}{d x^{2}} u{\\left(x \\right)} = 0$"
     },
     "execution_count": 2,
     "metadata": {},
     "output_type": "execute_result"
    }
   ],
   "source": [
    "x = sym.Symbol(\"x\")\n",
    "u = sym.Function(\"u\")\n",
    "bcs = ((0,0), (1,0))  # boundary conditions\n",
    "xlim = (0,1)  # specify domain\n",
    "\n",
    "eq = sym.Eq(sym.diff(u(x), x, x) - u(x) + x, 0)\n",
    "eq"
   ],
   "metadata": {
    "collapsed": false,
    "pycharm": {
     "name": "#%%\n"
    }
   }
  },
  {
   "cell_type": "markdown",
   "source": [
    "(Exact solution)"
   ],
   "metadata": {
    "collapsed": false
   }
  },
  {
   "cell_type": "code",
   "execution_count": 3,
   "outputs": [
    {
     "data": {
      "text/plain": "x - exp(x)/(2*sinh(1)) + exp(-x)/(2*sinh(1))",
      "text/latex": "$\\displaystyle x - \\frac{e^{x}}{2 \\sinh{\\left(1 \\right)}} + \\frac{e^{- x}}{2 \\sinh{\\left(1 \\right)}}$"
     },
     "execution_count": 3,
     "metadata": {},
     "output_type": "execute_result"
    }
   ],
   "source": [
    "u_exact = sym.dsolve(eq, u(x), ics={u(bc[0]):bc[1] for bc in bcs}).rhs\n",
    "u_exact"
   ],
   "metadata": {
    "collapsed": false,
    "pycharm": {
     "name": "#%%\n"
    }
   }
  },
  {
   "cell_type": "markdown",
   "source": [
    "Trial function"
   ],
   "metadata": {
    "collapsed": false
   }
  },
  {
   "cell_type": "code",
   "execution_count": 4,
   "outputs": [
    {
     "data": {
      "text/plain": "a*x*(1 - x)",
      "text/latex": "$\\displaystyle a x \\left(1 - x\\right)$"
     },
     "execution_count": 4,
     "metadata": {},
     "output_type": "execute_result"
    }
   ],
   "source": [
    "a = sym.Symbol(\"a\")\n",
    "params = [a]\n",
    "v = a*x*(1-x)\n",
    "\n",
    "v"
   ],
   "metadata": {
    "collapsed": false,
    "pycharm": {
     "name": "#%%\n"
    }
   }
  },
  {
   "cell_type": "markdown",
   "source": [
    "Residiuum"
   ],
   "metadata": {
    "collapsed": false
   }
  },
  {
   "cell_type": "code",
   "execution_count": 5,
   "outputs": [
    {
     "data": {
      "text/plain": "a*x*(x - 1) - 2*a + x",
      "text/latex": "$\\displaystyle a x \\left(x - 1\\right) - 2 a + x$"
     },
     "execution_count": 5,
     "metadata": {},
     "output_type": "execute_result"
    }
   ],
   "source": [
    "r = sym.simplify(eq.lhs.subs(u(x), v))\n",
    "r"
   ],
   "metadata": {
    "collapsed": false,
    "pycharm": {
     "name": "#%%\n"
    }
   }
  },
  {
   "cell_type": "markdown",
   "source": [
    "Test functions"
   ],
   "metadata": {
    "collapsed": false
   }
  },
  {
   "cell_type": "markdown",
   "source": [
    "### a) Point Collocation method\n",
    "\n",
    "$w_i = \\delta(x-x_i) = \\begin{cases} 0 & \\quad ,x\\neq x_i \\\\ \\infty & \\quad ,x=x_i \\end{cases}$"
   ],
   "metadata": {
    "collapsed": false
   }
  },
  {
   "cell_type": "code",
   "execution_count": 6,
   "outputs": [
    {
     "data": {
      "text/plain": "[Eq(0.5 - 2.25*a, 0)]"
     },
     "execution_count": 6,
     "metadata": {},
     "output_type": "execute_result"
    }
   ],
   "source": [
    "eq_a = []\n",
    "for i, param in enumerate(params, 1):\n",
    "    x_i = i * (xlim[0] + xlim[1])/(len(params)+1)\n",
    "    w_i = sym.DiracDelta(x-x_i)\n",
    "    eq_a.append(sym.Eq(sym.integrate(w_i*r, (x, *xlim)), 0))\n",
    "eq_a"
   ],
   "metadata": {
    "collapsed": false,
    "pycharm": {
     "name": "#%%\n"
    }
   }
  },
  {
   "cell_type": "code",
   "execution_count": 7,
   "outputs": [
    {
     "name": "stdout",
     "output_type": "stream",
     "text": [
      "[{a: 0.222222222222222}]\n"
     ]
    },
    {
     "data": {
      "text/plain": "0.222222222222222*x*(1 - x)",
      "text/latex": "$\\displaystyle 0.222222222222222 x \\left(1 - x\\right)$"
     },
     "execution_count": 7,
     "metadata": {},
     "output_type": "execute_result"
    }
   ],
   "source": [
    "sol = sym.solve(eq_a, params, dict=True)\n",
    "print(sol)\n",
    "v_a = v\n",
    "for param in params:\n",
    "    v_a = v_a.subs(param, sol[-1][param])\n",
    "v_a"
   ],
   "metadata": {
    "collapsed": false,
    "pycharm": {
     "name": "#%%\n"
    }
   }
  },
  {
   "cell_type": "markdown",
   "source": [
    "### b) Least square method\n",
    "\n",
    "$w_i = \\frac{\\partial r}{\\partial a_i}$"
   ],
   "metadata": {
    "collapsed": false
   }
  },
  {
   "cell_type": "code",
   "execution_count": 8,
   "outputs": [
    {
     "data": {
      "text/plain": "[Eq(47*a/10 - 13/12, 0)]"
     },
     "execution_count": 8,
     "metadata": {},
     "output_type": "execute_result"
    }
   ],
   "source": [
    "eq_b = []\n",
    "for i, param in enumerate(params, 1):\n",
    "    w_i = r.diff(param)\n",
    "    eq_b.append(sym.Eq(sym.integrate(w_i*r, (x, *xlim)), 0))\n",
    "eq_b"
   ],
   "metadata": {
    "collapsed": false,
    "pycharm": {
     "name": "#%%\n"
    }
   }
  },
  {
   "cell_type": "code",
   "execution_count": 9,
   "outputs": [
    {
     "name": "stdout",
     "output_type": "stream",
     "text": [
      "[{a: 65/282}]\n"
     ]
    },
    {
     "data": {
      "text/plain": "65*x*(1 - x)/282",
      "text/latex": "$\\displaystyle \\frac{65 x \\left(1 - x\\right)}{282}$"
     },
     "execution_count": 9,
     "metadata": {},
     "output_type": "execute_result"
    }
   ],
   "source": [
    "sol = sym.solve(eq_b, params, dict=True)\n",
    "print(sol)\n",
    "v_b = v\n",
    "for param in params:\n",
    "    v_b = v_b.subs(param, sol[-1][param])\n",
    "v_b"
   ],
   "metadata": {
    "collapsed": false,
    "pycharm": {
     "name": "#%%\n"
    }
   }
  },
  {
   "cell_type": "markdown",
   "source": [
    "### c) Galerkin method\n",
    "\n",
    "$w_i = \\frac{\\partial \\tilde u}{\\partial a_i}$"
   ],
   "metadata": {
    "collapsed": false
   }
  },
  {
   "cell_type": "code",
   "execution_count": 10,
   "outputs": [
    {
     "data": {
      "text/plain": "[Eq(1/12 - 11*a/30, 0)]"
     },
     "execution_count": 10,
     "metadata": {},
     "output_type": "execute_result"
    }
   ],
   "source": [
    "eq_c = []\n",
    "for i, param in enumerate(params, 1):\n",
    "    w_i = v.diff(param)\n",
    "    eq_c.append(sym.Eq(sym.integrate(w_i*r, (x, *xlim)), 0))\n",
    "eq_c"
   ],
   "metadata": {
    "collapsed": false,
    "pycharm": {
     "name": "#%%\n"
    }
   }
  },
  {
   "cell_type": "code",
   "execution_count": 11,
   "outputs": [
    {
     "data": {
      "text/plain": "5*x*(1 - x)/22",
      "text/latex": "$\\displaystyle \\frac{5 x \\left(1 - x\\right)}{22}$"
     },
     "execution_count": 11,
     "metadata": {},
     "output_type": "execute_result"
    }
   ],
   "source": [
    "sol = sym.solve(eq_c, params, dict=True)\n",
    "v_c = v\n",
    "for param in params:\n",
    "    v_c = v_c.subs(param, sol[-1][param])\n",
    "v_c"
   ],
   "metadata": {
    "collapsed": false,
    "pycharm": {
     "name": "#%%\n"
    }
   }
  },
  {
   "cell_type": "markdown",
   "source": [
    "### d) Subdomain Collocation method\n",
    "\n",
    "$w_i = \\begin{cases} 0 & \\quad ,x \\notin [x_a, x_b] \\\\ 1 & \\quad ,x \\in [x_a, x_b] \\end{cases}$"
   ],
   "metadata": {
    "collapsed": false
   }
  },
  {
   "cell_type": "code",
   "execution_count": 12,
   "outputs": [
    {
     "data": {
      "text/plain": "[Eq(0.5 - 2.16666666666667*a, 0)]"
     },
     "execution_count": 12,
     "metadata": {},
     "output_type": "execute_result"
    }
   ],
   "source": [
    "eq_d = []\n",
    "for i, param in enumerate(params, 1):\n",
    "    dx = (xlim[1] - xlim[0])/len(params)\n",
    "    x_a = (i-1)*dx\n",
    "    x_b = i*dx\n",
    "    eq_d.append(sym.Eq(sym.integrate(r, (x, x_a, x_b)), 0))\n",
    "eq_d"
   ],
   "metadata": {
    "collapsed": false,
    "pycharm": {
     "name": "#%%\n"
    }
   }
  },
  {
   "cell_type": "code",
   "execution_count": 13,
   "outputs": [
    {
     "data": {
      "text/plain": "0.230769230769231*x*(1 - x)",
      "text/latex": "$\\displaystyle 0.230769230769231 x \\left(1 - x\\right)$"
     },
     "execution_count": 13,
     "metadata": {},
     "output_type": "execute_result"
    }
   ],
   "source": [
    "sol = sym.solve(eq_d, params, dict=True)\n",
    "v_d = v\n",
    "for param in params:\n",
    "    v_d = v_d.subs(param, sol[0][param])\n",
    "v_d"
   ],
   "metadata": {
    "collapsed": false,
    "pycharm": {
     "name": "#%%\n"
    }
   }
  },
  {
   "cell_type": "markdown",
   "source": [
    "### Comparison"
   ],
   "metadata": {
    "collapsed": false
   }
  },
  {
   "cell_type": "code",
   "execution_count": 14,
   "outputs": [
    {
     "data": {
      "text/plain": "<Figure size 432x288 with 1 Axes>",
      "image/png": "[encoded data removed]"
     },
     "metadata": {
      "needs_background": "light"
     },
     "output_type": "display_data"
    }
   ],
   "source": [
    "u_exact = sym.lambdify(x, u_exact)\n",
    "v_a = sym.lambdify(x, v_a)\n",
    "v_b = sym.lambdify(x, v_b)\n",
    "v_c = sym.lambdify(x, v_c)\n",
    "v_d = sym.lambdify(x, v_d)\n",
    "\n",
    "xpts = np.linspace(0,1,1000)\n",
    "\n",
    "plt.plot(xpts, u_exact(xpts), label=\"Exact\")\n",
    "plt.plot(xpts, v_a(xpts), label=\"Point Collocation method\")\n",
    "plt.plot(xpts, v_b(xpts), label=\"Least square method\")\n",
    "plt.plot(xpts, v_c(xpts), label=\"Galerkin method\")\n",
    "plt.plot(xpts, v_d(xpts), label=\"Subdomain Collocation method\")\n",
    "plt.legend()\n",
    "plt.show()"
   ],
   "metadata": {
    "collapsed": false,
    "pycharm": {
     "name": "#%%\n"
    }
   }
  },
  {
   "cell_type": "markdown",
   "source": [
    "Global error"
   ],
   "metadata": {
    "collapsed": false
   }
  },
  {
   "cell_type": "code",
   "execution_count": 15,
   "outputs": [
    {
     "name": "stdout",
     "output_type": "stream",
     "text": [
      "[0.0051078401316330515, 0.005107661869334005, 0.0050826169052835555, 0.00511124456224446]\n"
     ]
    },
    {
     "data": {
      "text/plain": "<Figure size 720x360 with 1 Axes>",
      "image/png": "[encoded data removed]"
     },
     "metadata": {
      "needs_background": "light"
     },
     "output_type": "display_data"
    }
   ],
   "source": [
    "fig = plt.figure(figsize=(10,5))\n",
    "global_error = [scipy_integrate_quad(lambda x: abs(u_exact(x) - v(x)), *xlim)[0] for v in (v_a, v_b, v_c, v_d)]\n",
    "print(global_error)\n",
    "plt.bar((\"Point Collocation method\", \"Least square method\", \"Galerkin method\", \"Subdomain Collocation method\"), global_error, log=True)\n",
    "plt.title(\"Global error (log)\")\n",
    "plt.show()"
   ],
   "metadata": {
    "collapsed": false,
    "pycharm": {
     "name": "#%%\n"
    }
   }
  },
  {
   "cell_type": "markdown",
   "source": [],
   "metadata": {
    "collapsed": false
   }
  },
  {
   "cell_type": "markdown",
   "source": [
    "## Example 2: Polynomial trial function"
   ],
   "metadata": {
    "collapsed": false
   }
  },
  {
   "cell_type": "markdown",
   "source": [
    "Problem\n",
    "\n",
    "Differential equation:  $\\frac{d^2 u}{dx^2} - u + x = 0$\n",
    "Boundary conditions:    $u(0)=0$ and $u(1)=0$"
   ],
   "metadata": {
    "collapsed": false
   }
  },
  {
   "cell_type": "code",
   "execution_count": 16,
   "outputs": [
    {
     "data": {
      "text/plain": "Eq(x - u(x) + Derivative(u(x), (x, 2)), 0)",
      "text/latex": "$\\displaystyle x - u{\\left(x \\right)} + \\frac{d^{2}}{d x^{2}} u{\\left(x \\right)} = 0$"
     },
     "execution_count": 16,
     "metadata": {},
     "output_type": "execute_result"
    }
   ],
   "source": [
    "x = sym.Symbol(\"x\")\n",
    "u = sym.Function(\"u\")\n",
    "bcs = ((0,0), (1,0))  # boundary conditions\n",
    "xlim = (0,1)  # specify domain\n",
    "\n",
    "eq = sym.Eq(sym.diff(u(x), x, x) - u(x) + x, 0)\n",
    "eq"
   ],
   "metadata": {
    "collapsed": false,
    "pycharm": {
     "name": "#%%\n"
    }
   }
  },
  {
   "cell_type": "markdown",
   "source": [
    "(Exact solution)"
   ],
   "metadata": {
    "collapsed": false
   }
  },
  {
   "cell_type": "code",
   "execution_count": 17,
   "outputs": [
    {
     "data": {
      "text/plain": "x - exp(x)/(2*sinh(1)) + exp(-x)/(2*sinh(1))",
      "text/latex": "$\\displaystyle x - \\frac{e^{x}}{2 \\sinh{\\left(1 \\right)}} + \\frac{e^{- x}}{2 \\sinh{\\left(1 \\right)}}$"
     },
     "execution_count": 17,
     "metadata": {},
     "output_type": "execute_result"
    }
   ],
   "source": [
    "u_exact = sym.dsolve(eq, u(x), ics={u(bc[0]):bc[1] for bc in bcs}).rhs\n",
    "u_exact"
   ],
   "metadata": {
    "collapsed": false,
    "pycharm": {
     "name": "#%%\n"
    }
   }
  },
  {
   "cell_type": "markdown",
   "source": [
    "Trial function"
   ],
   "metadata": {
    "collapsed": false
   }
  },
  {
   "cell_type": "code",
   "execution_count": 18,
   "outputs": [
    {
     "data": {
      "text/plain": "a*sin(pi*x) + b*sin(2*pi*x)",
      "text/latex": "$\\displaystyle a \\sin{\\left(\\pi x \\right)} + b \\sin{\\left(2 \\pi x \\right)}$"
     },
     "execution_count": 18,
     "metadata": {},
     "output_type": "execute_result"
    }
   ],
   "source": [
    "a = sym.Symbol(\"a\")\n",
    "b = sym.Symbol(\"b\")\n",
    "params = [a,b]\n",
    "v = a*sym.sin(x*sym.pi) + b*sym.sin(2*x*sym.pi)\n",
    "\n",
    "v"
   ],
   "metadata": {
    "collapsed": false,
    "pycharm": {
     "name": "#%%\n"
    }
   }
  },
  {
   "cell_type": "markdown",
   "source": [
    "Residiuum"
   ],
   "metadata": {
    "collapsed": false
   }
  },
  {
   "cell_type": "code",
   "execution_count": 19,
   "outputs": [
    {
     "data": {
      "text/plain": "-a*sin(pi*x) - b*sin(2*pi*x) + x - pi**2*(a + 8*b*cos(pi*x))*sin(pi*x)",
      "text/latex": "$\\displaystyle - a \\sin{\\left(\\pi x \\right)} - b \\sin{\\left(2 \\pi x \\right)} + x - \\pi^{2} \\left(a + 8 b \\cos{\\left(\\pi x \\right)}\\right) \\sin{\\left(\\pi x \\right)}$"
     },
     "execution_count": 19,
     "metadata": {},
     "output_type": "execute_result"
    }
   ],
   "source": [
    "r = sym.simplify(eq.lhs.subs(u(x), v))\n",
    "r"
   ],
   "metadata": {
    "collapsed": false,
    "pycharm": {
     "name": "#%%\n"
    }
   }
  },
  {
   "cell_type": "markdown",
   "source": [
    "Test functions"
   ],
   "metadata": {
    "collapsed": false
   }
  },
  {
   "cell_type": "markdown",
   "source": [
    "### a) Point Collocation method\n",
    "\n",
    "$w_i = \\delta(x-x_i) = \\begin{cases} 0 & \\quad ,x\\neq x_i \\\\ \\infty & \\quad ,x=x_i \\end{cases}$"
   ],
   "metadata": {
    "collapsed": false
   }
  },
  {
   "cell_type": "code",
   "execution_count": 20,
   "outputs": [
    {
     "data": {
      "text/plain": "[Eq(-pi**2*a*sin(0.333333333333333*pi) - a*sin(0.333333333333333*pi) - 8*pi**2*b*sin(0.333333333333333*pi)*cos(0.333333333333333*pi) - b*sin(0.666666666666667*pi) + 0.333333333333333, 0),\n Eq(-pi**2*a*sin(0.666666666666667*pi) - a*sin(0.666666666666667*pi) - b*sin(1.33333333333333*pi) - 8*pi**2*b*sin(0.666666666666667*pi)*cos(0.666666666666667*pi) + 0.666666666666667, 0)]"
     },
     "execution_count": 20,
     "metadata": {},
     "output_type": "execute_result"
    }
   ],
   "source": [
    "eq_a = []\n",
    "for i, param in enumerate(params, 1):\n",
    "    x_i = i * (xlim[0] + xlim[1])/(len(params)+1)\n",
    "    w_i = sym.DiracDelta(x-x_i)\n",
    "    eq_a.append(sym.Eq(sym.integrate(w_i*r, (x, *xlim)), 0))\n",
    "eq_a"
   ],
   "metadata": {
    "collapsed": false,
    "pycharm": {
     "name": "#%%\n"
    }
   }
  },
  {
   "cell_type": "code",
   "execution_count": 21,
   "outputs": [
    {
     "name": "stdout",
     "output_type": "stream",
     "text": [
      "[{a: 0.0531160332874454, b: -0.00475438767421477}]\n"
     ]
    },
    {
     "data": {
      "text/plain": "0.0531160332874454*sin(pi*x) - 0.00475438767421477*sin(2*pi*x)",
      "text/latex": "$\\displaystyle 0.0531160332874454 \\sin{\\left(\\pi x \\right)} - 0.00475438767421477 \\sin{\\left(2 \\pi x \\right)}$"
     },
     "execution_count": 21,
     "metadata": {},
     "output_type": "execute_result"
    }
   ],
   "source": [
    "sol = sym.solve(eq_a, params, dict=True)\n",
    "print(sol)\n",
    "v_a = v\n",
    "for param in params:\n",
    "    v_a = v_a.subs(param, sol[0][param])\n",
    "v_a"
   ],
   "metadata": {
    "collapsed": false,
    "pycharm": {
     "name": "#%%\n"
    }
   }
  },
  {
   "cell_type": "markdown",
   "source": [
    "### b) Least square method\n",
    "\n",
    "$w_i = \\frac{\\partial r}{\\partial a_i}$"
   ],
   "metadata": {
    "collapsed": false
   }
  },
  {
   "cell_type": "code",
   "execution_count": 22,
   "outputs": [
    {
     "data": {
      "text/plain": "[Eq(a/2 + pi**2*a + pi**4*a/2 - pi - 1/pi, 0),\n Eq(b/2 + 4*pi**2*b + 8*pi**4*b + 1/(2*pi) + 2*pi, 0)]"
     },
     "execution_count": 22,
     "metadata": {},
     "output_type": "execute_result"
    }
   ],
   "source": [
    "eq_b = []\n",
    "for i, param in enumerate(params, 1):\n",
    "    w_i = r.diff(param)\n",
    "    eq_b.append(sym.Eq(sym.integrate(w_i*r, (x, *xlim)), 0))\n",
    "eq_b"
   ],
   "metadata": {
    "collapsed": false,
    "pycharm": {
     "name": "#%%\n"
    }
   }
  },
  {
   "cell_type": "code",
   "execution_count": 23,
   "outputs": [
    {
     "name": "stdout",
     "output_type": "stream",
     "text": [
      "[{b: -1/(pi + 4*pi**3), a: 2/(pi + pi**3)}]\n"
     ]
    },
    {
     "data": {
      "text/plain": "2*sin(pi*x)/(pi + pi**3) - sin(2*pi*x)/(pi + 4*pi**3)",
      "text/latex": "$\\displaystyle \\frac{2 \\sin{\\left(\\pi x \\right)}}{\\pi + \\pi^{3}} - \\frac{\\sin{\\left(2 \\pi x \\right)}}{\\pi + 4 \\pi^{3}}$"
     },
     "execution_count": 23,
     "metadata": {},
     "output_type": "execute_result"
    }
   ],
   "source": [
    "sol = sym.solve(eq_b, params, dict=True)\n",
    "print(sol)\n",
    "v_b = v\n",
    "for param in params:\n",
    "    v_b = v_b.subs(param, sol[0][param])\n",
    "v_b"
   ],
   "metadata": {
    "collapsed": false,
    "pycharm": {
     "name": "#%%\n"
    }
   }
  },
  {
   "cell_type": "markdown",
   "source": [
    "### c) Galerkin method\n",
    "\n",
    "$w_i = \\frac{\\partial \\tilde u}{\\partial a_i}$"
   ],
   "metadata": {
    "collapsed": false
   }
  },
  {
   "cell_type": "code",
   "execution_count": 24,
   "outputs": [
    {
     "data": {
      "text/plain": "[Eq(-pi**2*a/2 - a/2 + 1/pi, 0), Eq(-2*pi**2*b - b/2 - 1/(2*pi), 0)]"
     },
     "execution_count": 24,
     "metadata": {},
     "output_type": "execute_result"
    }
   ],
   "source": [
    "eq_c = []\n",
    "for i, param in enumerate(params, 1):\n",
    "    w_i = v.diff(param)\n",
    "    eq_c.append(sym.Eq(sym.integrate(w_i*r, (x, *xlim)), 0))\n",
    "eq_c"
   ],
   "metadata": {
    "collapsed": false,
    "pycharm": {
     "name": "#%%\n"
    }
   }
  },
  {
   "cell_type": "code",
   "execution_count": 25,
   "outputs": [
    {
     "data": {
      "text/plain": "2*sin(pi*x)/(pi + pi**3) - sin(2*pi*x)/(pi + 4*pi**3)",
      "text/latex": "$\\displaystyle \\frac{2 \\sin{\\left(\\pi x \\right)}}{\\pi + \\pi^{3}} - \\frac{\\sin{\\left(2 \\pi x \\right)}}{\\pi + 4 \\pi^{3}}$"
     },
     "execution_count": 25,
     "metadata": {},
     "output_type": "execute_result"
    }
   ],
   "source": [
    "sol = sym.solve(eq_c, params, dict=True)\n",
    "v_c = v\n",
    "for param in params:\n",
    "    v_c = v_c.subs(param, sol[0][param])\n",
    "v_c"
   ],
   "metadata": {
    "collapsed": false,
    "pycharm": {
     "name": "#%%\n"
    }
   }
  },
  {
   "cell_type": "markdown",
   "source": [
    "### d) Subdomain Collocation method\n",
    "\n",
    "$w_i = \\begin{cases} 0 & \\quad ,x \\notin [x_a, x_b] \\\\ 1 & \\quad ,x \\in [x_a, x_b] \\end{cases}$"
   ],
   "metadata": {
    "collapsed": false
   }
  },
  {
   "cell_type": "code",
   "execution_count": 26,
   "outputs": [
    {
     "data": {
      "text/plain": "[Eq(-a/pi - b/pi + pi**2*(-a/pi - 4*b/pi) + 0.125, 0),\n Eq(-a/pi + b/pi - pi**2*(a/pi - 4*b/pi) + 0.375, 0)]"
     },
     "execution_count": 26,
     "metadata": {},
     "output_type": "execute_result"
    }
   ],
   "source": [
    "eq_d = []\n",
    "for i, param in enumerate(params, 1):\n",
    "    dx = (xlim[1] - xlim[0])/len(params)\n",
    "    x_a = (i-1)*dx\n",
    "    x_b = i*dx\n",
    "    eq_d.append(sym.Eq(sym.integrate(r, (x, x_a, x_b)), 0))\n",
    "eq_d"
   ],
   "metadata": {
    "collapsed": false,
    "pycharm": {
     "name": "#%%\n"
    }
   }
  },
  {
   "cell_type": "code",
   "execution_count": 27,
   "outputs": [
    {
     "data": {
      "text/plain": "0.0722563705555591*sin(pi*x) - 0.00970144350841548*sin(2*pi*x)",
      "text/latex": "$\\displaystyle 0.0722563705555591 \\sin{\\left(\\pi x \\right)} - 0.00970144350841548 \\sin{\\left(2 \\pi x \\right)}$"
     },
     "execution_count": 27,
     "metadata": {},
     "output_type": "execute_result"
    }
   ],
   "source": [
    "sol = sym.solve(eq_d, params, dict=True)\n",
    "v_d = v\n",
    "for param in params:\n",
    "    v_d = v_d.subs(param, sol[0][param])\n",
    "v_d"
   ],
   "metadata": {
    "collapsed": false,
    "pycharm": {
     "name": "#%%\n"
    }
   }
  },
  {
   "cell_type": "markdown",
   "source": [
    "### Comparison"
   ],
   "metadata": {
    "collapsed": false
   }
  },
  {
   "cell_type": "code",
   "execution_count": 28,
   "outputs": [
    {
     "data": {
      "text/plain": "<Figure size 432x288 with 1 Axes>",
      "image/png": "[encoded data removed]"
     },
     "metadata": {
      "needs_background": "light"
     },
     "output_type": "display_data"
    }
   ],
   "source": [
    "u_exact = sym.lambdify(x, u_exact)\n",
    "v_a = sym.lambdify(x, v_a)\n",
    "v_b = sym.lambdify(x, v_b)\n",
    "v_c = sym.lambdify(x, v_c)\n",
    "v_d = sym.lambdify(x, v_d)\n",
    "\n",
    "xpts = np.linspace(0,1,1000)\n",
    "\n",
    "plt.plot(xpts, u_exact(xpts), label=\"Exact\")\n",
    "plt.plot(xpts, v_a(xpts), label=\"Point Collocation method\")\n",
    "plt.plot(xpts, v_b(xpts), label=\"Least square method\")\n",
    "plt.plot(xpts, v_c(xpts), label=\"Galerkin method\")\n",
    "plt.plot(xpts, v_d(xpts), label=\"Subdomain Collocation method\")\n",
    "plt.legend()\n",
    "plt.show()"
   ],
   "metadata": {
    "collapsed": false,
    "pycharm": {
     "name": "#%%\n"
    }
   }
  },
  {
   "cell_type": "markdown",
   "source": [
    "Global error"
   ],
   "metadata": {
    "collapsed": false
   }
  },
  {
   "cell_type": "code",
   "execution_count": 29,
   "outputs": [
    {
     "name": "stdout",
     "output_type": "stream",
     "text": [
      "[0.004068125719467824, 0.0015966411446355063, 0.0015966411446355063, 0.008141971086850764]\n"
     ]
    },
    {
     "data": {
      "text/plain": "<Figure size 720x360 with 1 Axes>",
      "image/png": "[encoded data removed]"
     },
     "metadata": {
      "needs_background": "light"
     },
     "output_type": "display_data"
    }
   ],
   "source": [
    "fig = plt.figure(figsize=(10,5))\n",
    "global_error = [scipy_integrate_quad(lambda x: abs(u_exact(x) - v(x)), *xlim)[0] for v in (v_a, v_b, v_c, v_d)]\n",
    "print(global_error)\n",
    "plt.bar((\"Point Collocation method\", \"Least square method\", \"Galerkin method\", \"Subdomain Collocation method\"), global_error, log=True)\n",
    "plt.title(\"Global error (log)\")\n",
    "plt.show()"
   ],
   "metadata": {
    "collapsed": false,
    "pycharm": {
     "name": "#%%\n"
    }
   }
  }
 ],
 "metadata": {
  "kernelspec": {
   "display_name": "Python 3",
   "language": "python",
   "name": "python3"
  },
  "language_info": {
   "codemirror_mode": {
    "name": "ipython",
    "version": 2
   },
   "file_extension": ".py",
   "mimetype": "text/x-python",
   "name": "python",
   "nbconvert_exporter": "python",
   "pygments_lexer": "ipython2",
   "version": "2.7.6"
  }
 },
 "nbformat": 4,
 "nbformat_minor": 0
}